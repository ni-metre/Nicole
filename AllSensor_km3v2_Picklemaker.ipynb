{
  "nbformat": 4,
  "nbformat_minor": 0,
  "metadata": {
    "colab": {
      "name": " AllSensor_km3v2_Picklemaker.ipynb",
      "provenance": [],
      "machine_shape": "hm",
      "authorship_tag": "ABX9TyOw2K6uA3nx1kIEpkHuwQxy",
      "include_colab_link": true
    },
    "kernelspec": {
      "display_name": "Python 3",
      "name": "python3"
    },
    "language_info": {
      "name": "python"
    }
  },
  "cells": [
    {
      "cell_type": "markdown",
      "metadata": {
        "id": "view-in-github",
        "colab_type": "text"
      },
      "source": [
        "<a href=\"https://colab.research.google.com/github/ni-metre/Colab_Triplet_Loss_Backup/blob/master/AllSensor_km3v2_Picklemaker.ipynb\" target=\"_parent\"><img src=\"https://colab.research.google.com/assets/colab-badge.svg\" alt=\"Open In Colab\"/></a>"
      ]
    },
    {
      "cell_type": "code",
      "metadata": {
        "colab": {
          "base_uri": "https://localhost:8080/"
        },
        "id": "xoR6Bq_MD_iy",
        "outputId": "363df606-055f-4827-a395-7668e854da79"
      },
      "source": [
        "#Mount the drive\n",
        "from google.colab import drive\n",
        "drive.mount('/content/drive')\n",
        "% xmode verbose"
      ],
      "execution_count": null,
      "outputs": [
        {
          "output_type": "stream",
          "text": [
            "Mounted at /content/drive\n",
            "Exception reporting mode: Verbose\n"
          ],
          "name": "stdout"
        }
      ]
    },
    {
      "cell_type": "code",
      "metadata": {
        "colab": {
          "base_uri": "https://localhost:8080/",
          "height": 175
        },
        "id": "N8w4ZGR9aKxu",
        "outputId": "02533a3d-e567-4e3e-afa9-e4c5569b3c2b"
      },
      "source": [
        "#Force a remount of the  drive\n",
        "drive.mount(\"/content/drive\", force_remount=True)"
      ],
      "execution_count": null,
      "outputs": [
        {
          "output_type": "error",
          "ename": "NameError",
          "evalue": "ignored",
          "traceback": [
            "\u001b[0;31m---------------------------------------------------------------------------\u001b[0m",
            "\u001b[0;31mNameError\u001b[0m                                 Traceback (most recent call last)",
            "\u001b[0;32m<ipython-input-1-28c5e818494b>\u001b[0m in \u001b[0;36m<module>\u001b[0;34m()\u001b[0m\n\u001b[1;32m      1\u001b[0m \u001b[0;31m#Force a remount of the  drive\u001b[0m\u001b[0;34m\u001b[0m\u001b[0;34m\u001b[0m\u001b[0;34m\u001b[0m\u001b[0m\n\u001b[0;32m----> 2\u001b[0;31m \u001b[0mdrive\u001b[0m\u001b[0;34m.\u001b[0m\u001b[0mmount\u001b[0m\u001b[0;34m(\u001b[0m\u001b[0;34m\"/content/drive\"\u001b[0m\u001b[0;34m,\u001b[0m \u001b[0mforce_remount\u001b[0m\u001b[0;34m=\u001b[0m\u001b[0;32mTrue\u001b[0m\u001b[0;34m)\u001b[0m\u001b[0;34m\u001b[0m\u001b[0;34m\u001b[0m\u001b[0m\n\u001b[0m",
            "\u001b[0;31mNameError\u001b[0m: name 'drive' is not defined"
          ]
        }
      ]
    },
    {
      "cell_type": "code",
      "metadata": {
        "id": "4whcnEimeBwr"
      },
      "source": [
        "import os\n",
        "import numpy as np\n",
        "import pickle\n",
        "import random\n",
        "from collections import defaultdict\n",
        "from itertools import chain"
      ],
      "execution_count": null,
      "outputs": []
    },
    {
      "cell_type": "code",
      "metadata": {
        "id": "5GuW2-8IHL42"
      },
      "source": [
        "sensor_of_interest = 43\n",
        "base_name = '2V3_Fake_' + str(sensor_of_interest)\n",
        "\n",
        "rootdir = '/content/drive/My Drive/2V3_Fakes_CO2/'\n",
        "\n",
        "#path to fake data\n",
        "test_output_path = rootdir + base_name\n",
        "\n",
        "pickle_path = '/content/drive/My Drive/Pickles'\n",
        "\n",
        "#path to model checkpoints\n",
        "checkpoint_path = '/content/drive/My Drive/Checkpoints'\n",
        "\n",
        "#path to real data\n",
        "real_path = '/content/drive/My Drive/Test_outputs/General'"
      ],
      "execution_count": null,
      "outputs": []
    },
    {
      "cell_type": "code",
      "metadata": {
        "id": "hOh-ttyUxGWX"
      },
      "source": [
        ""
      ],
      "execution_count": null,
      "outputs": []
    },
    {
      "cell_type": "markdown",
      "metadata": {
        "id": "-5PYqUyKtcqn"
      },
      "source": [
        "# Make a Joint Pickle for Classifier"
      ]
    },
    {
      "cell_type": "code",
      "metadata": {
        "id": "Isxx8G0pFix1"
      },
      "source": [
        ""
      ],
      "execution_count": null,
      "outputs": []
    },
    {
      "cell_type": "code",
      "metadata": {
        "id": "mnXNjoAvFw0v"
      },
      "source": [
        ""
      ],
      "execution_count": null,
      "outputs": []
    },
    {
      "cell_type": "markdown",
      "metadata": {
        "id": "lNcWLRXutRWl"
      },
      "source": [
        "# Make a Joint Pickle"
      ]
    },
    {
      "cell_type": "code",
      "metadata": {
        "colab": {
          "base_uri": "https://localhost:8080/"
        },
        "id": "fp6uuLKFzO9t",
        "outputId": "6f4ea4b9-27cf-48df-acba-198f72ec08f9"
      },
      "source": [
        "# This makes the pickle\n",
        "mV_data_list = []\n",
        "ac_data_list = []\n",
        "co2_data_list = []\n",
        "sensor_list = []\n",
        "total_co2_data_list = []\n",
        "gain_list = []\n",
        "etoh_list = []\n",
        "low13_list = []\n",
        "low26_list = []\n",
        "pp_list = []\n",
        "gain_source = {43: 695.0, 46: 691.0, 48: 699.0, 49: 696.0}\n",
        "for sensor in [43, 46, 48, 49]:\n",
        "  print(str(sensor))\n",
        "  pickle_name = '/' + str(sensor) + '_2496peaknorm_postpeak_2496_all_fake_data_EtOH.pickle'\n",
        "  with open(pickle_path + pickle_name , 'rb') as handle:\n",
        "    \n",
        "    ttvdict = pickle.load(handle)\n",
        "    print(ttvdict.keys())\n",
        "    #print(len(ttvdict['Ac']))\n",
        "  ix_to_use = random.choices(np.arange(0, len(ttvdict['Ac'])), k =25000)\n",
        "  for i in ix_to_use:\n",
        "    mV_data_list.append(ttvdict['csvs'][i])\n",
        "    ac_data_list.append(ttvdict['Ac'][i])\n",
        "    co2_data_list.append(ttvdict['CO2'][i])\n",
        "    total_co2_data_list.append(ttvdict['Total_CO2'][i])\n",
        "    sensor_list.append(sensor)\n",
        "    #etoh_list.append(ttvdict['EtOH'][i])\n",
        "    low13_list.append(ttvdict['Low13'][i])\n",
        "    low26_list.append(ttvdict['Low26'][i])\n",
        "    pp_list.append(ttvdict['Peak_pos'][i])\n",
        "\n",
        "    \n",
        "\n",
        "print(len(mV_data_list))\n",
        "print(len(ac_data_list))"
      ],
      "execution_count": null,
      "outputs": [
        {
          "output_type": "stream",
          "text": [
            "43\n",
            "dict_keys(['csvs', 'Ac', 'CO2', 'Total_CO2', 'EtOH', 'Low13', 'Low26', 'Peak_pos'])\n",
            "46\n",
            "dict_keys(['csvs', 'Ac', 'CO2', 'Total_CO2', 'EtOH', 'Low13', 'Low26', 'Peak_pos'])\n",
            "48\n",
            "dict_keys(['csvs', 'Ac', 'CO2', 'Total_CO2', 'EtOH', 'Low13', 'Low26', 'Peak_pos'])\n",
            "49\n",
            "dict_keys(['csvs', 'Ac', 'CO2', 'Total_CO2', 'EtOH', 'Low13', 'Low26', 'Peak_pos'])\n",
            "100000\n",
            "100000\n"
          ],
          "name": "stdout"
        }
      ]
    },
    {
      "cell_type": "code",
      "metadata": {
        "id": "OYfylhsr1HiO"
      },
      "source": [
        "#mVdata = np.array([item for sublist in mV_data_list for item in sublist])\n",
        "#ac_data = np.array([item for sublist in ac_data_list for item in sublist])\n",
        "#co2_data = np.array([item for sublist in co2_data_list for item in sublist])\n",
        "#total_co2_data = np.array([item for sublist in total_co2_data_list for item in sublist])\n",
        "#gain_data = np.array([item for sublist in gain_list for item in sublist])\n",
        "#sensor_data = np.array([item for sublist in sensor_list for item in sublist])\n",
        "\n",
        "#etoh_data = np.array([item for sublist in etoh_list for item in sublist])\n",
        "#low13_data = np.array([item for sublist in low13_list for item in sublist])\n",
        "#low26_data = np.array([item for sublist in low26_list for item in sublist])\n",
        "#pp_data = np.array([item for sublist in pp_list for item in sublist])"
      ],
      "execution_count": null,
      "outputs": []
    },
    {
      "cell_type": "code",
      "metadata": {
        "id": "B9OV3IlgaRtL"
      },
      "source": [
        "pickle_name = '/norm_25keach_43_46_48_49_2496_EtOHclassifier_all_fake_data.pickle'\n",
        "#mVdata = np.expand_dims(np.array(np.expand_dims(np.array(mV_data), axis = -1)), axis = -1)\n",
        "\n",
        "data_dict = {'csvs': np.array(mV_data_list), 'Ac': np.array(ac_data_list), 'CO2': np.array(co2_data_list), 'Total_CO2': np.array(total_co2_data_list), 'Sensor': np.array(sensor_list), 'Gain': np.array(gain_list), \n",
        "             'Low13': np.array(low13_list), 'Low26': np.array(low26_list), 'Peak_pos': np.array(pp_list)}\n",
        "\n",
        "with open(pickle_path + pickle_name, 'wb') as handle:\n",
        "    pickle.dump(data_dict, handle, protocol=pickle.HIGHEST_PROTOCOL)"
      ],
      "execution_count": null,
      "outputs": []
    },
    {
      "cell_type": "markdown",
      "metadata": {
        "id": "9JLMZpKxFt9Q"
      },
      "source": [
        "# Make Joint Pickle for Triplets"
      ]
    },
    {
      "cell_type": "code",
      "metadata": {
        "colab": {
          "base_uri": "https://localhost:8080/"
        },
        "id": "mHMOfh9XM6i-",
        "outputId": "248e9bf8-5c37-405c-c25f-b73cc206f812"
      },
      "source": [
        "  pickle_name = '/ttvdict_43_triplet_2V3_Fake_extrapolate_intendedtemp_0.5maxweight_meas432V3_Fake_ML_Fake_CO2_meas_intend_temp_group_maxweight0.5_43_7488_csvs_sensor_metadata_peaks.pickle'\n",
        "  with open(pickle_path + pickle_name , 'rb') as handle:\n",
        "    \n",
        "    d43 = pickle.load(handle)\n",
        "    print('43 loaded')\n",
        "  pickle_name = '/ttvdict_46_triplet_2V3_Fake_extrapolate_intendedtemp_0.5maxweight_meas432V3_Fake_ML_Fake_CO2_meas_intend_temp_group_maxweight0.5_46_7488_csvs_sensor_metadata_peaks.pickle'\n",
        "  with open(pickle_path + pickle_name , 'rb') as handle:\n",
        "    \n",
        "    d46 = pickle.load(handle)\n",
        "    print('46 loaded')\n",
        "  pickle_name = '/ttvdict_48_triplet_2V3_Fake_extrapolate_intendedtemp_0.5maxweight_meas432V3_Fake_ML_Fake_CO2_meas_intend_temp_group_maxweight0.5_48_7488_csvs_sensor_metadata_peaks.pickle'\n",
        "  with open(pickle_path + pickle_name , 'rb') as handle:\n",
        "    \n",
        "    d48 = pickle.load(handle)\n",
        "    print('48 loaded')\n",
        "  pickle_name = '/ttvdict_49_triplet_2V3_Fake_extrapolate_intendedtemp_0.5maxweight_meas432V3_Fake_ML_Fake_CO2_meas_intend_temp_group_maxweight0.5_49_7488_csvs_sensor_metadata_peaks.pickle'\n",
        "  with open(pickle_path + pickle_name , 'rb') as handle:\n",
        "    \n",
        "    d49 = pickle.load(handle)\n",
        "    print('49 loaded')"
      ],
      "execution_count": null,
      "outputs": [
        {
          "output_type": "stream",
          "text": [
            "43 loaded\n",
            "46 loaded\n",
            "48 loaded\n",
            "49 loaded\n"
          ],
          "name": "stdout"
        }
      ]
    },
    {
      "cell_type": "code",
      "metadata": {
        "id": "N8aOFDp0NqkK"
      },
      "source": [
        "c1gain = []\n",
        "c2gain = []\n",
        "c3gain = []\n",
        "gain_source = {43: 695.0, 46: 691.0, 48: 699.0, 49: 696.0}\n",
        "dictref = {43: d43, 46: d46, 48: d48, 49: d49}\n",
        "for sensor in [43, 46, 48, 49]:\n",
        "  ds = dictref[sensor]\n",
        "  for i in range(0, len(ds['c1num'])):\n",
        "    c1gain.append(gain_source[sensor])\n",
        "    c2gain.append(gain_source[sensor])\n",
        "    c3gain.append(gain_source[sensor])\n",
        "#for sensor in list [43, 46, 48, 49]:\n",
        "#  for i in range(0, len(d43))"
      ],
      "execution_count": null,
      "outputs": []
    },
    {
      "cell_type": "code",
      "metadata": {
        "id": "qJeUH_RnNmIY",
        "colab": {
          "base_uri": "https://localhost:8080/"
        },
        "outputId": "ba19a646-6366-4bae-c016-12ffe34b511b"
      },
      "source": [
        "dd = defaultdict(list)\n",
        "\n",
        "for d in ([d43, d46, d48, d49]): # you can list as many input dicts as you want here\n",
        "    for key, value in d.items():\n",
        "        dd[key].append(value)\n",
        "dd2 = defaultdict(list)\n",
        "for key, value in dd.items():\n",
        "  print(key)\n",
        "  dd2[key] =  list(chain.from_iterable(dd[key]))\n",
        "print(len(dd2['c1tests']))"
      ],
      "execution_count": null,
      "outputs": [
        {
          "output_type": "stream",
          "text": [
            "c1num\n",
            "c2num\n",
            "c3num\n",
            "c1tests\n",
            "c2tests\n",
            "c3tests\n",
            "c1Ac\n",
            "c2Ac\n",
            "c3Ac\n",
            "c1co2_measured\n",
            "c2co2_measured\n",
            "c3co2_measured\n",
            "c1temp\n",
            "c2temp\n",
            "c3temp\n",
            "c1metadata\n",
            "c2metadata\n",
            "c3metadata\n",
            "c1peak_pos\n",
            "c2peak_pos\n",
            "c3peak_pos\n",
            "c1peak_pos_t\n",
            "c2peak_pos_t\n",
            "c3peak_pos_t\n",
            "c1peak_neg\n",
            "c2peak_neg\n",
            "c3peak_neg\n",
            "c1peak_neg_t\n",
            "c2peak_neg_t\n",
            "c3peak_neg_t\n",
            "indices\n",
            "40396\n"
          ],
          "name": "stdout"
        }
      ]
    },
    {
      "cell_type": "code",
      "metadata": {
        "id": "KtQINlr9fubT",
        "colab": {
          "base_uri": "https://localhost:8080/"
        },
        "outputId": "aa8ef8fd-2f6e-4695-a838-6519b5fc9aba"
      },
      "source": [
        "foo = np.array(dd2['c1tests'])\n",
        "print(foo.shape)"
      ],
      "execution_count": null,
      "outputs": [
        {
          "output_type": "stream",
          "text": [
            "(40396, 7489)\n"
          ],
          "name": "stdout"
        }
      ]
    },
    {
      "cell_type": "code",
      "metadata": {
        "id": "rx6lGpYvQQQv",
        "colab": {
          "base_uri": "https://localhost:8080/"
        },
        "outputId": "17f1d45a-bd22-4e3f-f0dd-ae56ad0f463d"
      },
      "source": [
        "dd2['c1_gain'] = np.array(c1gain)\n",
        "dd2['c2_gain'] = np.array(c2gain)\n",
        "dd2['c3_gain'] = np.array(c3gain)\n",
        "print(len(dd2['c1_gain']))"
      ],
      "execution_count": null,
      "outputs": [
        {
          "output_type": "stream",
          "text": [
            "40396\n"
          ],
          "name": "stdout"
        }
      ]
    },
    {
      "cell_type": "code",
      "metadata": {
        "id": "WRPSBCqLQZ1e"
      },
      "source": [
        "pickle_name = '/ttvdict_43_46_48_49_triplet_intendtemp_max0.5weight.pickle'\n",
        "with open(pickle_path + pickle_name, 'wb') as handle:\n",
        "    pickle.dump(dd2, handle, protocol=pickle.HIGHEST_PROTOCOL)\n",
        "print('Made the pickle!')"
      ],
      "execution_count": 20,
      "outputs": []
    }
  ]
}